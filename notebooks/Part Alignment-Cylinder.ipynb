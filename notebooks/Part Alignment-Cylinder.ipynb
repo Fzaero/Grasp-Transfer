{
 "cells": [
  {
   "cell_type": "code",
   "execution_count": null,
   "metadata": {
    "ExecuteTime": {
     "end_time": "2023-11-26T12:25:19.592553Z",
     "start_time": "2023-11-26T12:25:19.589591Z"
    }
   },
   "outputs": [],
   "source": [
    "import sys\n",
    "import os\n",
    "grasp_transfer_path = os.getenv(\"GRASP_TRANSFER_SOURCE_DIR\")\n",
    "sys.path.insert(0,grasp_transfer_path)"
   ]
  },
  {
   "cell_type": "code",
   "execution_count": null,
   "metadata": {
    "ExecuteTime": {
     "end_time": "2023-11-26T12:25:23.822859Z",
     "start_time": "2023-11-26T12:25:20.787758Z"
    }
   },
   "outputs": [],
   "source": [
    "from dataio import *\n",
    "from networks import *\n",
    "from torch.utils.data import DataLoader\n",
    "from visualize import *\n",
    "from trimesh.viewer import windowed\n",
    "import time\n",
    "from tqdm import tqdm\n",
    "from sdf_estimator import *\n",
    "import open3d as o3d\n",
    "from scipy.spatial.transform import Rotation as R\n",
    "import ipywidgets as widgets\n"
   ]
  },
  {
   "cell_type": "code",
   "execution_count": null,
   "metadata": {
    "ExecuteTime": {
     "end_time": "2023-11-26T12:25:23.972305Z",
     "start_time": "2023-11-26T12:25:23.824420Z"
    }
   },
   "outputs": [],
   "source": [
    "from mesh_to_sdf import sample_sdf_near_surface"
   ]
  },
  {
   "cell_type": "code",
   "execution_count": null,
   "metadata": {
    "ExecuteTime": {
     "end_time": "2023-11-26T12:25:38.023605Z",
     "start_time": "2023-11-26T12:25:38.013385Z"
    }
   },
   "outputs": [],
   "source": [
    "class Shape_SDF_Dataset_Interp(Dataset):\n",
    "    def __init__(self,num_of_samples):\n",
    "        \"\"\"\n",
    "        Shapes_path (<str>): Path to Aligned Shape Meshes\n",
    "        \"\"\"\n",
    "        self.meshes = list()\n",
    "        self.meshes_transformed = self.meshes\n",
    "        self.sdf_points_pos = list()\n",
    "        self.sdf_points_neg = list()\n",
    "        self.sdf_values_pos = list()\n",
    "        self.sdf_values_neg = list()\n",
    "        self.pointclouds = list()\n",
    "        self.pointcloud_normals = list()\n",
    "        number_of_scenes = 2 * 4 * 8\n",
    "        self.sampling_RTs = np.zeros((number_of_scenes,3,4))\n",
    "        self.sampling_RTs[:,:3,:3]=np.eye(3)\n",
    "        r1 = R.from_rotvec(np.array([np.pi/2, 0, 0]))\n",
    "        self.num_of_samples = num_of_samples\n",
    "        self.number_of_scenes = number_of_scenes\n",
    "        obj_ind = 0\n",
    "        with tqdm(total=64, miniters=1) as pbar:\n",
    "            start_time = time.time()            \n",
    "            for r in np.linspace(0.05,0.4,8):\n",
    "                for h in np.linspace(0.25,1,4):\n",
    "                    box = trimesh.primitives.Box(extents =(r*2 , r*2 ,h))\n",
    "\n",
    "                    cylinder = trimesh.primitives.Cylinder(radius = r, height = h )\n",
    "                    tr = np.eye(4) \n",
    "                    tr[:3,:3] =  r1.as_matrix()\n",
    "                    for m  in [box, cylinder]:\n",
    "                        _,scale = compute_unit_sphere_transform(m)\n",
    "                        tr[:3,3] = tr[:3,:3]@np.array([r,0,0])\n",
    "                        m.apply_transform(tr) \n",
    "                        translation,scale = compute_unit_sphere_transform(m)\n",
    "                        self.meshes.append(m)\n",
    "                        samples, fid  = m.sample(25000, return_index=True)                        \n",
    "                        bary = trimesh.triangles.points_to_barycentric(\n",
    "                            triangles=m.triangles[fid], points=samples)\n",
    "                        # interpolate vertex normals from barycentric coordinates\n",
    "                        normals = trimesh.unitize((m.vertex_normals[m.faces[fid]] *\n",
    "                                                  trimesh.unitize(bary).reshape(\n",
    "                                                      (-1, 3, 1))).sum(axis=1))\n",
    "        #                 samples = (samples)  * scale \n",
    "                        self.pointclouds.append(samples)            \n",
    "                        self.pointcloud_normals.append(normals)            \n",
    "                        points, sdf_values = sample_sdf_near_surface(m, number_of_points=25000, scan_count=100, \n",
    "                                                                     scan_resolution=400,sign_method='depth') \n",
    "                        points=(points/scale - translation)\n",
    "                        self.sdf_points_pos.append(points[sdf_values>0])\n",
    "                        self.sdf_points_neg.append(points[sdf_values<0])   \n",
    "                        pos_sdf_values = sdf_values[sdf_values>0]\n",
    "                        neg_sdf_values = sdf_values[sdf_values<0]\n",
    "        #                 pos_sdf_values = pos_sdf_values*20\n",
    "                        pos_sdf_values[pos_sdf_values>=0.999999999999]=0.999999999999\n",
    "        #                 neg_sdf_values = neg_sdf_values*20\n",
    "                        neg_sdf_values[neg_sdf_values<=-0.999999999999]=-0.999999999999            \n",
    "                        self.sampling_RTs[obj_ind,:3,:3] = np.eye(3)\n",
    "                        self.sdf_values_pos.append(pos_sdf_values)\n",
    "                        self.sdf_values_neg.append(neg_sdf_values)\n",
    "                        obj_ind=obj_ind+1\n",
    "                        pbar.update(1)\n",
    "                        pbar.set_postfix(time=time.time() - start_time)\n",
    "                        \n",
    "    def __len__(self):\n",
    "        return len(self.meshes)\n",
    "            \n",
    "    def sample_within_sphere(self,ind,refRT = np.eye(4)[:3,:], radius=0.5):\n",
    "        points = refRT @ to_hom_np(np.copy(self.pointclouds[ind])).T\n",
    "        points = (points.T)\n",
    "        pc_inds = np.where(\n",
    "            np.linalg.norm(points,axis=1)<radius\n",
    "            )[0]   \n",
    "        points = refRT @ to_hom_np(np.copy(self.sdf_points_pos[ind])).T\n",
    "        points = (points.T)[:,:3]\n",
    "        sdf_pos_inds = np.where(\n",
    "            np.linalg.norm(points,axis=1)<radius\n",
    "            )[0]   \n",
    "        points = refRT @ to_hom_np(np.copy(self.sdf_points_neg[ind])).T\n",
    "        points = (points.T)[:,:3]\n",
    "        sdf_neg_inds = np.where(\n",
    "            np.linalg.norm(points,axis=1)<radius\n",
    "            )[0]   \n",
    "        \n",
    "        return pc_inds,sdf_pos_inds,sdf_neg_inds\n",
    "    def set_sampling_RT(self,RTs):\n",
    "        self.sampling_RTs = RTs\n",
    "    def __getitem__(self,index):\n",
    "        pc_inds,sdf_pos_inds,sdf_neg_inds = self.sample_within_sphere(index,self.sampling_RTs[index])\n",
    "        scale=1\n",
    "        random_points_on_surface = pc_inds[np.random.choice(np.arange(len(pc_inds)),self.num_of_samples//2)]\n",
    "        random_points_pos = sdf_pos_inds[np.random.choice(np.arange(len(sdf_pos_inds)),self.num_of_samples//4)]\n",
    "        random_points_neg = sdf_neg_inds[np.random.choice(np.arange(len(sdf_neg_inds)),self.num_of_samples//4)]\n",
    "        \n",
    "        \n",
    "        x = torch.from_numpy(np.vstack([self.pointclouds[index][random_points_on_surface],\n",
    "                       self.sdf_points_pos[index][random_points_pos],\n",
    "                       self.sdf_points_neg[index][random_points_neg]])).float()\n",
    "\n",
    "        y = {'sdf':torch.from_numpy(np.vstack([np.zeros((self.num_of_samples//2,1)),\n",
    "                             scale*self.sdf_values_pos[index][random_points_pos].reshape(-1,1),\n",
    "                             scale*self.sdf_values_neg[index][random_points_neg].reshape(-1,1)])).float(),\n",
    "             'normals': torch.from_numpy(np.vstack([self.pointcloud_normals[index][random_points_on_surface],\n",
    "                                                   -1*np.ones((self.num_of_samples//2,3))])).float(),\n",
    "             }\n",
    "        observations =  {'coords': x,\n",
    "            'sdf': y['sdf'],\n",
    "            'normals': y['normals'],\n",
    "            'instance_idx':torch.Tensor([index]).squeeze().long()}\n",
    "    \n",
    "        ground_truth = {'sdf':observations['sdf'] ,\n",
    "        'normals': observations['normals']}\n",
    "        return observations, ground_truth            "
   ]
  },
  {
   "cell_type": "code",
   "execution_count": null,
   "metadata": {
    "ExecuteTime": {
     "end_time": "2023-11-26T12:33:56.833511Z",
     "start_time": "2023-11-26T12:25:41.272692Z"
    },
    "scrolled": true
   },
   "outputs": [],
   "source": [
    "sdf_dataset = Shape_SDF_Dataset_Interp(2000)\n",
    "train_dataloader = DataLoader(sdf_dataset, shuffle=True,batch_size=4, num_workers=0, drop_last = True)"
   ]
  },
  {
   "cell_type": "code",
   "execution_count": null,
   "metadata": {
    "ExecuteTime": {
     "end_time": "2023-11-26T12:43:03.320145Z",
     "start_time": "2023-11-26T12:43:02.519204Z"
    },
    "scrolled": true
   },
   "outputs": [],
   "source": [
    "model = MyNet(64,latent_dim = 128, hyper_hidden_features=256,hidden_num=128)\n",
    "model.to(device=torch.device('cuda:0'))\n",
    "optim = torch.optim.Adam([\n",
    "                {'params': model.sdf_net.parameters()},\n",
    "                {'params': model.hyper_net.parameters()},\n",
    "                {'params': model.latent_codes.parameters(), 'lr': 1e-4},\n",
    "            ],\n",
    "    lr=1e-4)"
   ]
  },
  {
   "cell_type": "code",
   "execution_count": null,
   "metadata": {
    "ExecuteTime": {
     "end_time": "2023-11-26T12:43:08.517698Z",
     "start_time": "2023-11-26T12:43:07.515586Z"
    }
   },
   "outputs": [],
   "source": [
    "part_points_list = list()\n",
    "gripper_mesh_list = list()\n",
    "object_mesh_list = list()\n",
    "gripper_mesh =  get_gripper_simple_mesh(np.zeros((3,)), np.eye(3), 0.10, 0.10, score=1)\n",
    "gripper_mesh.apply_scale(4)\n",
    "for obj_ind in range(0,8):  \n",
    "    \n",
    "    pc_inds,sdf_pos_inds,sdf_neg_inds= sdf_dataset.sample_within_sphere(obj_ind,radius=0.5)\n",
    "    \n",
    "    points = np.copy(sdf_dataset.pointclouds[obj_ind][pc_inds][:4000])\n",
    "    points[:,2]+=1.5*obj_ind\n",
    "    part_points_list.append(points)\n",
    "    gripper_mesh_for_grasp = trimesh.Trimesh(vertices=gripper_mesh.vertices,\n",
    "                                                 faces=gripper_mesh.faces,face_colors=[175,175,175])\n",
    "    gripper_mesh_for_grasp.apply_translation([0, 0, 1.5*obj_ind])\n",
    "    gripper_mesh_list.append(gripper_mesh_for_grasp)\n",
    "    \n",
    "    obj_mesh_for_grasp = trimesh.Trimesh(vertices=sdf_dataset.meshes[obj_ind].vertices,\n",
    "                                                 faces=sdf_dataset.meshes[obj_ind].faces,face_colors=[100,100,100])\n",
    "    obj_mesh_for_grasp.apply_translation([0, 0, 1.5*obj_ind])\n",
    "    object_mesh_list.append(obj_mesh_for_grasp)    \n",
    "scene = trimesh_show(part_points_list)\n",
    "scene.add_geometry(gripper_mesh_list)\n",
    "scene.add_geometry(object_mesh_list)\n",
    "window = windowed.SceneViewer(scene)"
   ]
  },
  {
   "cell_type": "code",
   "execution_count": null,
   "metadata": {
    "ExecuteTime": {
     "end_time": "2023-11-26T12:43:09.385141Z",
     "start_time": "2023-11-26T12:43:09.380552Z"
    }
   },
   "outputs": [],
   "source": [
    "import numpy as np\n",
    "import trimesh\n",
    "from matplotlib import cm\n",
    "\n",
    "\n",
    "def trimesh_show(np_pcd_list, color_list=None, rand_color=False, show=True):\n",
    "    colormap = cm.get_cmap('brg', len(np_pcd_list))\n",
    "    # colormap= cm.get_cmap('gist_ncar_r', len(np_pcd_list))\n",
    "    colors = [\n",
    "        (np.asarray(colormap(val)) * 255).astype(np.int32) for val in np.linspace(0.05, 0.95, num=len(np_pcd_list))\n",
    "    ]\n",
    "    if color_list is None:\n",
    "        if rand_color:\n",
    "            color_list = []\n",
    "            for i in range(len(np_pcd_list)):\n",
    "                color_list.append((np.random.rand(3) * 255).astype(np.int32).tolist() + [255])\n",
    "        else:\n",
    "            color_list = colors\n",
    "    \n",
    "    tpcd_list = []\n",
    "    for i, pcd in enumerate(np_pcd_list):\n",
    "        tpcd = trimesh.PointCloud(pcd)\n",
    "        tpcd.colors = np.tile(color_list[i], (tpcd.vertices.shape[0], 1))\n",
    "\n",
    "        tpcd_list.append(tpcd)\n",
    "    \n",
    "    scene = trimesh.Scene()\n",
    "    scene.add_geometry(tpcd_list)\n",
    "    if show:\n",
    "        scene.show() \n",
    "\n",
    "    return scene\n",
    "def trimesh_show_green(np_pcd_list, color_list=None, rand_color=False, show=True):\n",
    "    # colormap= cm.get_cmap('gist_ncar_r', len(np_pcd_list))\n",
    "    tpcd_list = []\n",
    "    for i, pcd in enumerate(np_pcd_list):\n",
    "        tpcd = trimesh.PointCloud(pcd)\n",
    "        tpcd.colors = np.tile(np.array([0,255,0]), (tpcd.vertices.shape[0], 1))\n",
    "\n",
    "        tpcd_list.append(tpcd)\n",
    "    \n",
    "    scene = trimesh.Scene()\n",
    "    scene.add_geometry(tpcd_list)\n",
    "    if show:\n",
    "        scene.show() \n",
    "\n",
    "    return scene"
   ]
  },
  {
   "cell_type": "code",
   "execution_count": null,
   "metadata": {
    "ExecuteTime": {
     "end_time": "2023-11-26T13:08:54.195174Z",
     "start_time": "2023-11-26T12:43:10.423888Z"
    }
   },
   "outputs": [],
   "source": [
    "total_steps=0\n",
    "sphere_base = trimesh.primitives.Sphere(radius = 0.3,subdivisions=6)\n",
    "epochs=2000\n",
    "with tqdm(total=len(train_dataloader) * epochs) as pbar:\n",
    "    train_losses = []\n",
    "    for epoch in range(epochs):\n",
    "        RTs = model.get_refine_poses(torch.arange(0,64).cuda())[0].cpu().detach().numpy()\n",
    "        sdf_dataset.set_sampling_RT(RTs[:,:3,:4])        \n",
    "        model.train()\n",
    "        for step, (model_input, gt) in enumerate(train_dataloader):\n",
    "            start_time = time.time()\n",
    "            model_input = {key: value.cuda() for key, value in model_input.items()}\n",
    "            gt = {key: value.cuda() for key, value in gt.items()}\n",
    "\n",
    "            losses = model(model_input,gt,epoch)\n",
    "\n",
    "            train_loss = 0.\n",
    "            for loss_name, loss in losses.items():\n",
    "                single_loss = loss.mean()\n",
    "                if epoch %100== 0 and step==0:\n",
    "                    print(loss_name,single_loss)\n",
    "                train_loss += single_loss\n",
    "\n",
    "            train_losses.append(train_loss.item())\n",
    "            optim.zero_grad()\n",
    "            train_loss.backward()\n",
    "            optim.step()\n",
    "            pbar.update(1)\n",
    "            pbar.set_postfix(loss=train_loss, time=time.time() - start_time, epoch=epoch)\n",
    "            total_steps += 1\n",
    "            \n",
    "        if epoch>0 and epoch%400==0 and visualize:\n",
    "            try:\n",
    "                for index in range(2):\n",
    "                    subject_idx = index\n",
    "                    index = index\n",
    "                    v,t,_ = estimate_mesh_from_model(model, epoch, subject_idx, 64, 0.6)\n",
    "                    show_mesh(v-1,t)\n",
    "            except:\n",
    "                print(\"Data not good enough yet\")"
   ]
  },
  {
   "cell_type": "code",
   "execution_count": null,
   "metadata": {
    "ExecuteTime": {
     "end_time": "2023-11-26T14:55:11.375107Z",
     "start_time": "2023-11-26T14:55:09.490072Z"
    },
    "scrolled": true
   },
   "outputs": [],
   "source": [
    "model.eval()\n",
    "for index in range(56,64):\n",
    "    subject_idx = index\n",
    "    index = index\n",
    "    v,t,_ = estimate_mesh_from_model(model, epoch, subject_idx, 64, 0.5)\n",
    "    show_mesh(v,t)"
   ]
  },
  {
   "cell_type": "code",
   "execution_count": null,
   "metadata": {
    "ExecuteTime": {
     "end_time": "2023-11-26T14:55:58.306203Z",
     "start_time": "2023-11-26T14:55:57.559795Z"
    },
    "scrolled": false
   },
   "outputs": [],
   "source": [
    "contour_plot(model,500)"
   ]
  },
  {
   "cell_type": "code",
   "execution_count": null,
   "metadata": {
    "ExecuteTime": {
     "end_time": "2023-11-26T14:57:55.895312Z",
     "start_time": "2023-11-26T14:57:55.661415Z"
    }
   },
   "outputs": [],
   "source": [
    "output_path = '../outputs/cuboid'\n",
    "\n",
    "os.mkdir(output_path)\n",
    "torch.save(model.state_dict(), output_path+'/model')\n"
   ]
  },
  {
   "cell_type": "code",
   "execution_count": null,
   "metadata": {
    "ExecuteTime": {
     "end_time": "2022-09-06T14:46:50.967943Z",
     "start_time": "2022-09-06T14:46:50.852189Z"
    }
   },
   "outputs": [],
   "source": [
    "model.load_state_dict(torch.load(\"../outputs/cuboid/model\"))#my_model\n",
    "model.eval()"
   ]
  },
  {
   "cell_type": "code",
   "execution_count": null,
   "metadata": {
    "ExecuteTime": {
     "end_time": "2023-11-26T15:08:34.085438Z",
     "start_time": "2023-11-26T15:08:18.572517Z"
    }
   },
   "outputs": [],
   "source": [
    "for k in range(28,32):\n",
    "    mesh_list=estimate_mesh_traj_from_model(model, 2000, [k*2,k*2+1], 128,scale=0.5)\n",
    "    draw_mesh_list(mesh_list,output_path+\"/interp_\"+str(k*2)+''+str(k*2+1))"
   ]
  },
  {
   "cell_type": "code",
   "execution_count": null,
   "metadata": {
    "ExecuteTime": {
     "end_time": "2023-11-26T15:09:19.374341Z",
     "start_time": "2023-11-26T15:08:37.924110Z"
    }
   },
   "outputs": [],
   "source": [
    "for first in [0,1]:\n",
    "    for second in [6,7]:    \n",
    "        mesh_list=estimate_mesh_traj_from_model(model, 2000, [first,second], 64,scale = 0.5)\n",
    "        draw_mesh_list(mesh_list,output_path+\"/interp_\"+str(first)+'_'+str(second))"
   ]
  },
  {
   "cell_type": "code",
   "execution_count": null,
   "metadata": {
    "ExecuteTime": {
     "end_time": "2023-11-26T15:10:42.383682Z",
     "start_time": "2023-11-26T15:10:40.093319Z"
    }
   },
   "outputs": [],
   "source": [
    "mesh_list=list()\n",
    "part_points_list=list()\n",
    "gripper_mesh = get_gripper_simple_mesh(np.zeros((3,)), np.eye(3), 0.10, 0.10, score=1)\n",
    "shape_tr = 0\n",
    "for index in [0]:\n",
    "    fc_color = np.random.rand(3) * 255 \n",
    "    _,scale = compute_unit_sphere_transform(sdf_dataset.meshes_transformed[index])\n",
    "    \n",
    "    mesh2 = trimesh.Trimesh(vertices=sdf_dataset.meshes_transformed[index].vertices,\n",
    "                            face_colors=fc_color, faces=sdf_dataset.meshes_transformed[index].faces)\n",
    "    \n",
    "        \n",
    "    pc_inds,sdf_pos_inds,sdf_neg_inds= sdf_dataset.sample_within_sphere(index)\n",
    "    \n",
    "    points = np.copy(sdf_dataset.pointclouds[index][pc_inds][:16000])\n",
    "    part_points_list.append(points)\n",
    "    \n",
    "    \n",
    "    RT= np.eye(4)\n",
    "    RT[:3,:] = sdf_dataset.sampling_RTs[index]\n",
    "    R_,T_ = RT[:3,:3], RT[:3,3]\n",
    "    RT_inv = np.eye(4)\n",
    "    RT_inv[:3,:3] = np.linalg.inv(R_)\n",
    "    RT_inv[:3,3] =- RT_inv[:3,:3]@ T_\n",
    "    \n",
    "    mesh_list.append(mesh2)\n",
    "    \n",
    "    gripper_mesh_for_grasp = trimesh.Trimesh(vertices=gripper_mesh.vertices,\n",
    "                                         faces=gripper_mesh.faces,face_colors=[175,175,175])\n",
    "    gripper_mesh_for_grasp.colors = np.tile(np.array([175,175,175]), (gripper_mesh_for_grasp.vertices.shape[0], 1))\n",
    "    mesh_list.append(gripper_mesh_for_grasp)\n",
    "    \n",
    "    shape_tr=shape_tr+1\n",
    "    \n",
    "scene = trimesh_show(part_points_list)\n",
    "scene.add_geometry(mesh_list)\n",
    "window = windowed.SceneViewer(scene)"
   ]
  },
  {
   "cell_type": "code",
   "execution_count": null,
   "metadata": {
    "ExecuteTime": {
     "end_time": "2023-11-26T15:10:46.976438Z",
     "start_time": "2023-11-26T15:10:45.024140Z"
    }
   },
   "outputs": [],
   "source": [
    "mesh_list=list()\n",
    "part_points_list=list()\n",
    "sphere_base = trimesh.primitives.Sphere(radius = 0.5,subdivisions=6)\n",
    "sphere_base2 = trimesh.primitives.Sphere(radius = 0.1,subdivisions=3)\n",
    "\n",
    "shape_tr = 0\n",
    "gripper_mesh = get_gripper_simple_mesh(np.zeros((3,)), np.eye(3), 0.45, 0.40, score=1, color=None)\n",
    "for index in range(0,8):\n",
    "    shape_Tr=[0,0,shape_tr*2]\n",
    "    fc_color = np.random.rand(3) * 255 \n",
    "\n",
    "    mesh3 = trimesh.Trimesh(vertices=sdf_dataset.meshes_transformed[index].vertices, \n",
    "                            faces=sdf_dataset.meshes_transformed[index].faces,face_colors=fc_color)\n",
    "    mesh3.apply_translation(shape_Tr)  \n",
    "    points = estimate_points_from_model(model, 2000, index, 64,0.4)\n",
    "    points = ((RT_inv@ to_hom_np(points).T).T)[:,:3]\n",
    "    points[:,:3]+=shape_Tr\n",
    "    part_points_list.append(points)    \n",
    "    \n",
    "    \n",
    "    gripper_mesh_for_grasp = trimesh.Trimesh(vertices=gripper_mesh.vertices,\n",
    "                                         faces=gripper_mesh.faces,face_colors=[175,175,175])\n",
    "    gripper_mesh_for_grasp.apply_translation(shape_Tr)    \n",
    "    gripper_mesh_for_grasp.colors = np.tile(np.array([175,175,175]), (gripper_mesh_for_grasp.vertices.shape[0], 1))\n",
    "    mesh_list.append(gripper_mesh_for_grasp)\n",
    "    \n",
    "    shape_tr=shape_tr+1\n",
    "    \n",
    "scene = trimesh_show_green(part_points_list)\n",
    "scene.add_geometry(mesh_list)\n",
    "#scene.show()\n",
    "\n",
    "window = windowed.SceneViewer(scene)"
   ]
  }
 ],
 "metadata": {
  "kernelspec": {
   "display_name": "nf_base",
   "language": "python",
   "name": "nf_base"
  },
  "language_info": {
   "codemirror_mode": {
    "name": "ipython",
    "version": 3
   },
   "file_extension": ".py",
   "mimetype": "text/x-python",
   "name": "python",
   "nbconvert_exporter": "python",
   "pygments_lexer": "ipython3",
   "version": "3.8.19"
  }
 },
 "nbformat": 4,
 "nbformat_minor": 5
}
