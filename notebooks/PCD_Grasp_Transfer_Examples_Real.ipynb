{
 "cells": [
  {
   "cell_type": "code",
   "execution_count": null,
   "metadata": {
    "ExecuteTime": {
     "end_time": "2023-12-14T12:43:54.289271Z",
     "start_time": "2023-12-14T12:43:50.926686Z"
    }
   },
   "outputs": [],
   "source": [
    "import open3d as o3d\n",
    "import pickle \n",
    "import time\n",
    "import numpy as np\n",
    "\n",
    "import sys\n",
    "import os\n",
    "\n",
    "grasp_transfer_path = os.getenv(\"GRASP_TRANSFER_SOURCE_DIR\")\n",
    "repo_path = os.getenv(\"REPO_DIR\")\n",
    "\n",
    "sys.path.insert(0,grasp_transfer_path)\n",
    "\n",
    "from inference import *\n",
    "\n",
    "object_part_dict = {\n",
    "    \"watering_pot\":\"handle\",\n",
    "    \"watering_cup\":\"handle\",\n",
    "    \"cheezit_box\":\"cuboid\",\n",
    "    \"pringles\": \"cuboid\",\n",
    "    \"bowl\": \"rim\",\n",
    "    \"cup\": \"rim\"    \n",
    "}"
   ]
  },
  {
   "cell_type": "code",
   "execution_count": null,
   "metadata": {
    "ExecuteTime": {
     "end_time": "2023-12-14T12:44:59.207744Z",
     "start_time": "2023-12-14T12:44:47.922233Z"
    }
   },
   "outputs": [],
   "source": [
    "pcd_type = \"watering_pot\"\n",
    "part_name = object_part_dict[pcd_type]\n",
    "\n",
    "index = 5 # 1 to 5\n",
    "pcd_name =pcd_type+'_' + str(index)\n",
    "candidate_for_obj = 16\n",
    "    \n",
    "pcd_path = repo_path+'/datasets/pointclouds_real/' \n",
    "pcd = o3d.io.read_point_cloud(pcd_path + '/'+pcd_name+'.pcd')\n",
    "\n",
    "with open(pcd_path +  '/'+pcd_type+'_orig_grasp.pickle', 'rb') as handle:\n",
    "    candidate_bases = pickle.load(handle)[0] .reshape(1,4,4)   \n",
    "tik = time.time()\n",
    "pcd_original = pcd\n",
    "points = np.asarray(pcd_original.points)\n",
    "\n",
    "pcd_original_filtered = pcd_original.select_by_index(np.where((points[:,2]) > 0.05)[0])\n",
    "\n",
    "cl, ind =pcd_original_filtered.remove_radius_outlier(nb_points=32, radius=0.02)\n",
    "pcd_original_filtered = pcd_original_filtered.select_by_index(ind)\n",
    "# pcd_original_filtered=pcd_original_filtered.voxel_down_sample(0.005) # This can be used to speedup the method \n",
    "mesh_transformation, grasp_pose, embedding,model_transfer = get_grasps_for_pcd(pcd_original_filtered, part_name,\n",
    "                                                                candidate_bases,candidate_for_obj)\n",
    "tok = time.time()\n",
    "print(tok-tik)\n",
    "geometry_list = list()\n",
    "geometry_list.append(pcd_original)  \n",
    "gripper_mesh =  get_gripper_simple_mesh(np.zeros((3,)), np.eye(3), 0.10, 0.05, score=1,\n",
    "                                        color=None, trimesh_flag=False)\n",
    "gripper_mesh.scale(0.75,[0,0,0])\n",
    "gripper_mesh = gripper_mesh.transform(grasp_pose)\n",
    "geometry_list.append(gripper_mesh)  \n",
    "o3d.visualization.draw_geometries(geometry_list) "
   ]
  },
  {
   "cell_type": "code",
   "execution_count": null,
   "metadata": {
    "ExecuteTime": {
     "end_time": "2023-12-14T12:44:18.617951Z",
     "start_time": "2023-12-14T12:44:16.121001Z"
    }
   },
   "outputs": [],
   "source": [
    "# from se3 import SE3\n",
    "## Reconstruction View\n",
    "geometry_list = list()\n",
    "# geometry_list.append(pcd_original)\n",
    "geometry_list.append(pcd_original_filtered)\n",
    "\n",
    "gripper_mesh =  get_gripper_simple_mesh(np.zeros((3,)), np.eye(3), \n",
    "                                        0.10, 0.03, score=0, color=None, trimesh_flag=False)\n",
    "\n",
    "gripper_mesh.scale(1,[0,0,0])\n",
    "gripper_mesh = gripper_mesh.transform(grasp_pose)\n",
    "embed = embedding\n",
    "v,t,_ = estimate_mesh_from_model_with_embedding(model_transfer, 2000, \n",
    "                                                torch.Tensor(embed).cuda(),\n",
    "                                                64, scale=0.5)### Updated with embedding input\n",
    "\n",
    "mesh = o3d.geometry.TriangleMesh()\n",
    "mesh.vertices = o3d.utility.Vector3dVector((mesh_transformation@to_hom_np(v).T).T[:,:3]) ## Not sure\n",
    "mesh.triangles = o3d.utility.Vector3iVector(t)\n",
    "mesh.compute_vertex_normals()\n",
    "mesh.paint_uniform_color([0, 1, 0])\n",
    "\n",
    "geometry_list.append(mesh)                    \n",
    "\n",
    "geometry_list.append(gripper_mesh)                    \n",
    "\n",
    "o3d.visualization.draw_geometries(geometry_list)"
   ]
  },
  {
   "cell_type": "code",
   "execution_count": null,
   "metadata": {},
   "outputs": [],
   "source": []
  }
 ],
 "metadata": {
  "kernelspec": {
   "display_name": "grasp_transfer_venv",
   "language": "python",
   "name": "grasp_transfer_venv"
  },
  "language_info": {
   "codemirror_mode": {
    "name": "ipython",
    "version": 3
   },
   "file_extension": ".py",
   "mimetype": "text/x-python",
   "name": "python",
   "nbconvert_exporter": "python",
   "pygments_lexer": "ipython3",
   "version": "3.8.10"
  }
 },
 "nbformat": 4,
 "nbformat_minor": 4
}
